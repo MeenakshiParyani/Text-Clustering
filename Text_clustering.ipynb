{
 "cells": [
  {
   "cell_type": "code",
   "execution_count": 186,
   "metadata": {
    "collapsed": true
   },
   "outputs": [],
   "source": [
    "import matplotlib.pyplot as plt\n",
    "from collections import defaultdict\n",
    "from collections import Counter\n",
    "from scipy.sparse import csr_matrix, find, bmat, coo_matrix\n",
    "import numpy as np\n",
    "from sklearn.cluster import KMeans\n",
    "import numpy as np\n",
    "import random\n",
    "from sklearn.metrics.cluster import normalized_mutual_info_score\n",
    "from sklearn.utils import shuffle\n",
    "from sklearn.metrics import calinski_harabaz_score"
   ]
  },
  {
   "cell_type": "code",
   "execution_count": 187,
   "metadata": {
    "collapsed": true
   },
   "outputs": [],
   "source": [
    "file = 'train.dat'\n",
    "data = open(file, 'r')"
   ]
  },
  {
   "cell_type": "code",
   "execution_count": 188,
   "metadata": {},
   "outputs": [
    {
     "name": "stdout",
     "output_type": "stream",
     "text": [
      "8580\n"
     ]
    }
   ],
   "source": [
    "docs = list()\n",
    "for row in data:\n",
    "    docs.append(row.rstrip().split(\" \"))    \n",
    "print(len(docs))"
   ]
  },
  {
   "cell_type": "code",
   "execution_count": 189,
   "metadata": {
    "collapsed": true
   },
   "outputs": [],
   "source": [
    "def csr_idf(mat, copy=False, **kargs):\n",
    "    r\"\"\" Scale a CSR matrix by idf. \n",
    "    Returns scaling factors as dict. If copy is True, \n",
    "    returns scaled matrix and scaling factors.\n",
    "    \"\"\"\n",
    "    if copy is True:\n",
    "        mat = mat.copy()\n",
    "    nrows = mat.shape[0]\n",
    "    nnz = mat.nnz\n",
    "    ind, val, ptr = mat.indices, mat.data, mat.indptr\n",
    "    # document frequency\n",
    "    df = defaultdict(int)\n",
    "    for i in ind:\n",
    "        df[i] += 1\n",
    "    # inverse document frequency\n",
    "    for k,v in df.items():\n",
    "        df[k] = np.log(nrows / float(v))\n",
    "    # scale by idf\n",
    "    for i in range(0, nnz):\n",
    "        val[i] *= df[ind[i]]\n",
    "        \n",
    "    return df if copy is False else mat\n",
    "\n",
    "def csr_build(dataIndex, value, nnz, nrows):\n",
    "    ind = np.zeros(nnz, dtype=np.int)\n",
    "    val = np.zeros(nnz, dtype=np.double)\n",
    "    ptr = np.zeros(nrows+1, dtype=np.int)\n",
    "    i = 0\n",
    "    n = 0\n",
    "    \n",
    "    for (d,v) in zip(dataIndex, value):\n",
    "        l = len(d)\n",
    "        for j in range(l):\n",
    "            ind[int(j) + n] = d[j]\n",
    "            val[int(j) + n] = v[j]\n",
    "        \n",
    "        ptr[i+1] = ptr[i] + l\n",
    "        n += l\n",
    "        i += 1\n",
    "    \n",
    "    mat = csr_matrix((val, ind, ptr), shape=(nrows, max(ind)+1), dtype=np.double)\n",
    "    mat.sort_indices()\n",
    "    \n",
    "    return mat        "
   ]
  },
  {
   "cell_type": "code",
   "execution_count": 190,
   "metadata": {
    "collapsed": true
   },
   "outputs": [],
   "source": [
    "def getNormalizedCSR(docs):\n",
    "    # sperate indices and values\n",
    "    dataIndex = list()\n",
    "    value = list()\n",
    "    for d in docs:\n",
    "        d_index = list()\n",
    "        d_value = list()\n",
    "        for i in range(0,len(d),2):      \n",
    "            d_index.append(d[i])\n",
    "        for j in range(1,len(d),2):     \n",
    "            d_value.append(d[j])\n",
    "        dataIndex.append(d_index)\n",
    "        value.append(d_value)\n",
    "        \n",
    "    nrows = len(docs)\n",
    "\n",
    "    idx = {}\n",
    "    tid = 0\n",
    "    nnz = 0\n",
    "    ncol = 0\n",
    "    _max = list()\n",
    "    for d in dataIndex:\n",
    "        nnz += len(d)\n",
    "        _max.append(max(d))\n",
    "        for w in d:\n",
    "            if w not in idx:\n",
    "#             print(w)\n",
    "                idx[w] = tid\n",
    "                tid += 1\n",
    "    mat1 = csr_build(dataIndex, value, nnz, nrows)\n",
    "    mat1 = csr_idf(mat1, copy=True)\n",
    "    nrows = mat1.shape[0]\n",
    "    nnz = mat1.nnz\n",
    "    ind, val, ptr = mat1.indices, mat1.data, mat1.indptr\n",
    "    # normalize\n",
    "    for i in range(nrows):\n",
    "        rsum = 0.0    \n",
    "        for j in range(ptr[i], ptr[i+1]):\n",
    "            rsum += val[j]**2\n",
    "        if rsum == 0.0:\n",
    "            continue  # do not normalize empty rows\n",
    "        rsum = float(1.0/np.sqrt(rsum))\n",
    "        for j in range(ptr[i], ptr[i+1]):\n",
    "            val[j] *= rsum\n",
    "    return mat1"
   ]
  },
  {
   "cell_type": "code",
   "execution_count": 191,
   "metadata": {
    "collapsed": true
   },
   "outputs": [],
   "source": [
    "mat3 = getNormalizedCSR(docs)"
   ]
  },
  {
   "cell_type": "code",
   "execution_count": 192,
   "metadata": {
    "collapsed": true
   },
   "outputs": [],
   "source": [
    "# from sklearn.metrics.pairwise import euclidean_distances\n",
    "# A = coo_matrix(mat3)\n",
    "# max = 0\n",
    "# length = mat3.shape[0];\n",
    "# for i in range(0,length/2):\n",
    "#     for j in range(length/2,length):\n",
    "#         distance = euclidean_distances(mat3[i], mat3[j])\n",
    "#         if  distance > max:\n",
    "#             max = distance\n",
    "#             point1 = i\n",
    "#             point2 = j\n",
    "\n",
    "# print point1,\"point1\"\n",
    "# print point2,\"point2\"\n",
    "# print max"
   ]
  },
  {
   "cell_type": "code",
   "execution_count": 193,
   "metadata": {
    "collapsed": true
   },
   "outputs": [],
   "source": [
    "def calculate_sse(l1):\n",
    "    su = 0\n",
    "    A = coo_matrix(l1)\n",
    "    mean = np.mean(A.data)\n",
    "    for i,j,v in zip(A.row, A.col, A.data):\n",
    "        su = su + ((mean - v)**2)\n",
    "    return su"
   ]
  },
  {
   "cell_type": "code",
   "execution_count": 194,
   "metadata": {
    "collapsed": true
   },
   "outputs": [],
   "source": [
    "def initCentorids(x, k):\n",
    "    x_shuffle = shuffle(x, n_samples=2)\n",
    "    return x_shuffle"
   ]
  },
  {
   "cell_type": "code",
   "execution_count": 195,
   "metadata": {
    "collapsed": true
   },
   "outputs": [],
   "source": [
    "def sim(x1, x2):\n",
    "    sims = x1.dot(x2.T)\n",
    "    return sims"
   ]
  },
  {
   "cell_type": "code",
   "execution_count": 196,
   "metadata": {
    "collapsed": true
   },
   "outputs": [],
   "source": [
    "def findCentroids(matc, centroids):\n",
    "    idx = list()\n",
    "    simsMatrix = sim(matc, centroids)\n",
    "\n",
    "    for i in range(simsMatrix.shape[0]):\n",
    "        row = simsMatrix.getrow(i).toarray()[0].ravel()\n",
    "        top_indices = row.argsort()[-1]\n",
    "        idx.append(top_indices + 1)\n",
    "    return idx"
   ]
  },
  {
   "cell_type": "code",
   "execution_count": 197,
   "metadata": {
    "collapsed": true
   },
   "outputs": [],
   "source": [
    "def computeMeans(matm, idx, k):\n",
    "    centroids = list()\n",
    "    for i in range(1,k+1):\n",
    "        indi = [j for j, x in enumerate(idx) if x == i]\n",
    "        members = matm[indi,:]\n",
    "        if (members.shape[0] > 1):\n",
    "            centroids.append(members.toarray().mean(0))\n",
    "    centroids_csr = csr_matrix(centroids)\n",
    "    return centroids_csr"
   ]
  },
  {
   "cell_type": "code",
   "execution_count": 198,
   "metadata": {
    "collapsed": true
   },
   "outputs": [],
   "source": [
    "m = [[]]\n",
    "def divide(ids):\n",
    "    global m\n",
    "    c1 = list()\n",
    "    c2 = list()\n",
    "    if len(m[0]) == 0 :\n",
    "        for j in range(len(ids)):\n",
    "            if ids[j] == 1:\n",
    "                c1.append(j)\n",
    "            else :\n",
    "                c2.append(j)\n",
    "    else :\n",
    "        for k in range(len(ids)):\n",
    "            if ids[k] == 1:\n",
    "                c1.append(m[0][k])\n",
    "            else :\n",
    "                c2.append(m[0][k])\n",
    "    return c1, c2"
   ]
  },
  {
   "cell_type": "code",
   "execution_count": 199,
   "metadata": {
    "collapsed": true
   },
   "outputs": [],
   "source": [
    "def kmeans(k, matk, n_iter):\n",
    "    i = 0\n",
    "    centroids = initCentorids(matk, k)\n",
    "    old_sse = []\n",
    "    new_sse = [0]*2\n",
    "    min_sse = 0.00001\n",
    "    for _ in range(n_iter):\n",
    "        idx = findCentroids(matk, centroids)\n",
    "        clust1, clust2 = divide(idx)\n",
    "        if i == 0:\n",
    "            old_sse.append(calculate_sse(clust1))\n",
    "            old_sse.append(calculate_sse(clust2))\n",
    "            i = i+1;\n",
    "        else :\n",
    "            new_sse[0] = calculate_sse(clust1)\n",
    "            new_sse[1] = calculate_sse(clust2)\n",
    "            if (np.abs(old_sse[0]-new_sse[0]) <= min_sse) or (np.abs(old_sse[1]-new_sse[1]) <= min_sse) :\n",
    "                return idx, clust1, clust2\n",
    "            else :\n",
    "                old_sse = new_sse[:]\n",
    "        centroids = computeMeans(matk, idx, k)        \n",
    "    return idx, clust1, clust2"
   ]
  },
  {
   "cell_type": "code",
   "execution_count": 200,
   "metadata": {},
   "outputs": [
    {
     "name": "stdout",
     "output_type": "stream",
     "text": [
      "3 68.8330924815\n",
      "5 83.9848943512\n",
      "7 84.0700871955\n",
      "9 75.4795611374\n",
      "11 83.6735570804\n",
      "13 68.5004538835\n",
      "15 84.0868027633\n",
      "17 83.891575071\n",
      "19 68.5130079591\n"
     ]
    }
   ],
   "source": [
    "from sklearn.metrics import calinski_harabaz_score\n",
    "x_axis = list()\n",
    "y_axis = list()\n",
    "for k in range(3, 21, 2):\n",
    "    idx, cc1, cc2 = kmeans(k, mat3, 40)\n",
    "    score = calinski_harabaz_score(mat3.toarray(), idx)\n",
    "    print k, score\n",
    "    x_axis.append(k)\n",
    "    y_axis.append(score)"
   ]
  },
  {
   "cell_type": "code",
   "execution_count": 201,
   "metadata": {},
   "outputs": [
    {
     "data": {
      "text/plain": [
       "[<matplotlib.lines.Line2D at 0x113e9bd90>]"
      ]
     },
     "execution_count": 201,
     "metadata": {},
     "output_type": "execute_result"
    },
    {
     "data": {
      "image/png": "[encoded data removed]",
      "text/plain": [
       "<matplotlib.figure.Figure at 0x1139f1810>"
      ]
     },
     "metadata": {},
     "output_type": "display_data"
    }
   ],
   "source": [
    "import matplotlib.pyplot as plt\n",
    "%matplotlib inline\n",
    "plt.plot(x_axis, y_axis)"
   ]
  },
  {
   "cell_type": "code",
   "execution_count": 202,
   "metadata": {
    "collapsed": true
   },
   "outputs": [],
   "source": [
    "def convert_to_csr(l1):\n",
    "    mcsr = list()\n",
    "    for i in l1:\n",
    "        mcsr.append(docs[i])\n",
    "    return a(mcsr)"
   ]
  },
  {
   "cell_type": "code",
   "execution_count": 203,
   "metadata": {
    "collapsed": true
   },
   "outputs": [],
   "source": [
    "unselected_clusters = set()\n",
    "def choose_cluster(list_of_clusters):\n",
    "    global unselected_clusters\n",
    "    l2 = list()\n",
    "    var =[]\n",
    "    sse = []\n",
    "    for i in list_of_clusters:\n",
    "        unselected_clusters.add(tuple(i))\n",
    "    greatest = 0\n",
    "\n",
    "    for i in unselected_clusters:\n",
    "        l2.append(convert_to_csr(i))\n",
    "    for l in l2:\n",
    "        sse.append(calculate_sse(l))\n",
    "\n",
    "    csr_l2 = l2[(sse.index(max(sse)))]\n",
    "    indx = list(unselected_clusters)[(sse.index(max(sse)))]\n",
    "    unselected_clusters.remove(indx)\n",
    "    return indx, csr_l2"
   ]
  },
  {
   "cell_type": "code",
   "execution_count": 204,
   "metadata": {
    "scrolled": false
   },
   "outputs": [
    {
     "name": "stdout",
     "output_type": "stream",
     "text": [
      "====================================\n"
     ]
    },
    {
     "data": {
      "text/plain": [
       "'def printFile(outs):\\n    output_file = open(\"output.dat\", \"w\")\\n    \\nprintFile(out)'"
      ]
     },
     "execution_count": 204,
     "metadata": {},
     "output_type": "execute_result"
    }
   ],
   "source": [
    "temp = list()\n",
    "def bisecting(matb):\n",
    "    temp=matb.copy()\n",
    "    global m\n",
    "    for i in range(1, 7):\n",
    "        ids, clust1, clust2 = kmeans(2, temp, 40)\n",
    "        im, smat = choose_cluster([clust1, clust2])\n",
    "        m = [im]\n",
    "        temp = smat.copy()\n",
    "    for i in m:\n",
    "        unselected_clusters.add(tuple(i))\n",
    "    return unselected_clusters\n",
    "        \n",
    "\n",
    "out = bisecting(mat3)\n",
    "\n",
    "output_file = open(\"sse-kmeans+bisect-40-itr-0.401-1dec1.dat\", \"w\");\n",
    "z = 0\n",
    "o = [0] * 8580\n",
    "for x in out:\n",
    "    z = z + 1\n",
    "    for y in x:\n",
    "        o[y] = z\n",
    "\n",
    "for w in o:\n",
    "    output_file.write(str(w))\n",
    "    output_file.write('\\n')\n",
    "output_file.close()"
   ]
  },
  {
   "cell_type": "code",
   "execution_count": null,
   "metadata": {
    "collapsed": true
   },
   "outputs": [],
   "source": []
  }
 ],
 "metadata": {
  "kernelspec": {
   "display_name": "Python 2",
   "language": "python",
   "name": "python2"
  },
  "language_info": {
   "codemirror_mode": {
    "name": "ipython",
    "version": 2
   },
   "file_extension": ".py",
   "mimetype": "text/x-python",
   "name": "python",
   "nbconvert_exporter": "python",
   "pygments_lexer": "ipython2",
   "version": "2.7.13"
  }
 },
 "nbformat": 4,
 "nbformat_minor": 1
}
